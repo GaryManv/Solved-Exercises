{
 "cells": [
  {
   "cell_type": "markdown",
   "metadata": {},
   "source": [
    "# JSON exercise\n",
    "\n",
    "Download the data from [**here**](https://drive.google.com/file/d/1DGaX5AVfYhmWeb15lI-MzUbSKTYSz9fQ/view?usp=sharing) and answer following questions:\n",
    "1. Find the 10 countries with most projects\n",
    "2. What are top 10 sectors with projects?\n",
    "3. Find the top 10 major project themes (using column 'mjtheme_namecode')\n",
    "4. In 3. above you will notice that some entries have only the code and the name is missing. Create a dataframe with the missing names filled in."
   ]
  },
  {
   "cell_type": "code",
   "execution_count": 260,
   "metadata": {
    "tags": []
   },
   "outputs": [],
   "source": [
    "# open json file \n",
    "\n",
    "import pandas as pd\n",
    "import json\n",
    "#load json object\n",
    "with open('world_bank_projects.json') as f:\n",
    "    world_bank_nested_json = json.load(f)"
   ]
  },
  {
   "cell_type": "markdown",
   "metadata": {},
   "source": [
    "### 1. Find the 10 countries with most projects"
   ]
  },
  {
   "cell_type": "code",
   "execution_count": 261,
   "metadata": {
    "tags": []
   },
   "outputs": [
    {
     "data": {
      "text/html": [
       "<div>\n",
       "<style scoped>\n",
       "    .dataframe tbody tr th:only-of-type {\n",
       "        vertical-align: middle;\n",
       "    }\n",
       "\n",
       "    .dataframe tbody tr th {\n",
       "        vertical-align: top;\n",
       "    }\n",
       "\n",
       "    .dataframe thead th {\n",
       "        text-align: right;\n",
       "    }\n",
       "</style>\n",
       "<table border=\"1\" class=\"dataframe\">\n",
       "  <thead>\n",
       "    <tr style=\"text-align: right;\">\n",
       "      <th></th>\n",
       "      <th>countryname</th>\n",
       "      <th>CountCountries</th>\n",
       "    </tr>\n",
       "  </thead>\n",
       "  <tbody>\n",
       "    <tr>\n",
       "      <th>39</th>\n",
       "      <td>People's Republic of China</td>\n",
       "      <td>19</td>\n",
       "    </tr>\n",
       "    <tr>\n",
       "      <th>64</th>\n",
       "      <td>Republic of Indonesia</td>\n",
       "      <td>19</td>\n",
       "    </tr>\n",
       "    <tr>\n",
       "      <th>107</th>\n",
       "      <td>Socialist Republic of Vietnam</td>\n",
       "      <td>17</td>\n",
       "    </tr>\n",
       "    <tr>\n",
       "      <th>63</th>\n",
       "      <td>Republic of India</td>\n",
       "      <td>16</td>\n",
       "    </tr>\n",
       "    <tr>\n",
       "      <th>97</th>\n",
       "      <td>Republic of Yemen</td>\n",
       "      <td>13</td>\n",
       "    </tr>\n",
       "    <tr>\n",
       "      <th>38</th>\n",
       "      <td>People's Republic of Bangladesh</td>\n",
       "      <td>12</td>\n",
       "    </tr>\n",
       "    <tr>\n",
       "      <th>34</th>\n",
       "      <td>Nepal</td>\n",
       "      <td>12</td>\n",
       "    </tr>\n",
       "    <tr>\n",
       "      <th>25</th>\n",
       "      <td>Kingdom of Morocco</td>\n",
       "      <td>12</td>\n",
       "    </tr>\n",
       "    <tr>\n",
       "      <th>76</th>\n",
       "      <td>Republic of Mozambique</td>\n",
       "      <td>11</td>\n",
       "    </tr>\n",
       "    <tr>\n",
       "      <th>0</th>\n",
       "      <td>Africa</td>\n",
       "      <td>11</td>\n",
       "    </tr>\n",
       "  </tbody>\n",
       "</table>\n",
       "</div>"
      ],
      "text/plain": [
       "                         countryname  CountCountries\n",
       "39        People's Republic of China              19\n",
       "64             Republic of Indonesia              19\n",
       "107    Socialist Republic of Vietnam              17\n",
       "63                 Republic of India              16\n",
       "97                 Republic of Yemen              13\n",
       "38   People's Republic of Bangladesh              12\n",
       "34                             Nepal              12\n",
       "25                Kingdom of Morocco              12\n",
       "76            Republic of Mozambique              11\n",
       "0                             Africa              11"
      ]
     },
     "execution_count": 261,
     "metadata": {},
     "output_type": "execute_result"
    }
   ],
   "source": [
    "# creating a normilized json file\n",
    "normalized_json=pd.json_normalize(world_bank_nested_json)\n",
    "\n",
    "#assuming that each line is a unique project aggregating lines by country names\n",
    "#create anew column for counted countries, sort by that column (descending) and return only top ten\n",
    "grouped_by_countryname=normalized_json.groupby('countryname').size().reset_index(name=\"CountCountries\").sort_values(by='CountCountries',ascending=False).head(10)\n",
    "grouped_by_countryname"
   ]
  },
  {
   "cell_type": "markdown",
   "metadata": {},
   "source": [
    "### 2. What are top 10 sectors with projects?"
   ]
  },
  {
   "cell_type": "code",
   "execution_count": 263,
   "metadata": {
    "tags": []
   },
   "outputs": [
    {
     "data": {
      "text/html": [
       "<div>\n",
       "<style scoped>\n",
       "    .dataframe tbody tr th:only-of-type {\n",
       "        vertical-align: middle;\n",
       "    }\n",
       "\n",
       "    .dataframe tbody tr th {\n",
       "        vertical-align: top;\n",
       "    }\n",
       "\n",
       "    .dataframe thead th {\n",
       "        text-align: right;\n",
       "    }\n",
       "</style>\n",
       "<table border=\"1\" class=\"dataframe\">\n",
       "  <thead>\n",
       "    <tr style=\"text-align: right;\">\n",
       "      <th></th>\n",
       "      <th>Name</th>\n",
       "      <th>Count</th>\n",
       "    </tr>\n",
       "  </thead>\n",
       "  <tbody>\n",
       "    <tr>\n",
       "      <th>40</th>\n",
       "      <td>Other social services</td>\n",
       "      <td>106</td>\n",
       "    </tr>\n",
       "    <tr>\n",
       "      <th>7</th>\n",
       "      <td>Central government administration</td>\n",
       "      <td>82</td>\n",
       "    </tr>\n",
       "    <tr>\n",
       "      <th>61</th>\n",
       "      <td>Sub-national government administration</td>\n",
       "      <td>75</td>\n",
       "    </tr>\n",
       "    <tr>\n",
       "      <th>15</th>\n",
       "      <td>General agriculture, fishing and forestry sector</td>\n",
       "      <td>65</td>\n",
       "    </tr>\n",
       "    <tr>\n",
       "      <th>24</th>\n",
       "      <td>Health</td>\n",
       "      <td>63</td>\n",
       "    </tr>\n",
       "    <tr>\n",
       "      <th>21</th>\n",
       "      <td>General public administration sector</td>\n",
       "      <td>51</td>\n",
       "    </tr>\n",
       "    <tr>\n",
       "      <th>56</th>\n",
       "      <td>Rural and Inter-Urban Roads and Highways</td>\n",
       "      <td>44</td>\n",
       "    </tr>\n",
       "    <tr>\n",
       "      <th>23</th>\n",
       "      <td>General water, sanitation and flood protection...</td>\n",
       "      <td>39</td>\n",
       "    </tr>\n",
       "    <tr>\n",
       "      <th>1</th>\n",
       "      <td>Agricultural extension and research</td>\n",
       "      <td>38</td>\n",
       "    </tr>\n",
       "    <tr>\n",
       "      <th>45</th>\n",
       "      <td>Public administration- Agriculture, fishing an...</td>\n",
       "      <td>36</td>\n",
       "    </tr>\n",
       "  </tbody>\n",
       "</table>\n",
       "</div>"
      ],
      "text/plain": [
       "                                                 Name  Count\n",
       "40                              Other social services    106\n",
       "7                   Central government administration     82\n",
       "61             Sub-national government administration     75\n",
       "15   General agriculture, fishing and forestry sector     65\n",
       "24                                             Health     63\n",
       "21               General public administration sector     51\n",
       "56           Rural and Inter-Urban Roads and Highways     44\n",
       "23  General water, sanitation and flood protection...     39\n",
       "1                 Agricultural extension and research     38\n",
       "45  Public administration- Agriculture, fishing an...     36"
      ]
     },
     "execution_count": 263,
     "metadata": {},
     "output_type": "execute_result"
    }
   ],
   "source": [
    "# creating a normilized json file for 'sector' column which is a list of services\n",
    "normalized_sector=pd.json_normalize(world_bank_nested_json,record_path='sector')\n",
    "\n",
    "#create a new column for counted Names (Service types), sort by that column (descending) and return only top ten\n",
    "grouped_by_services=normalized_sector.groupby('Name').size().reset_index(name=\"Count\").sort_values(by='Count',ascending=False).head(10)\n",
    "grouped_by_services\n"
   ]
  },
  {
   "cell_type": "markdown",
   "metadata": {},
   "source": [
    "### 3. Find the top 10 major project themes (using column 'mjtheme_namecode')"
   ]
  },
  {
   "cell_type": "code",
   "execution_count": 373,
   "metadata": {
    "tags": []
   },
   "outputs": [
    {
     "data": {
      "text/html": [
       "<div>\n",
       "<style scoped>\n",
       "    .dataframe tbody tr th:only-of-type {\n",
       "        vertical-align: middle;\n",
       "    }\n",
       "\n",
       "    .dataframe tbody tr th {\n",
       "        vertical-align: top;\n",
       "    }\n",
       "\n",
       "    .dataframe thead th {\n",
       "        text-align: right;\n",
       "    }\n",
       "</style>\n",
       "<table border=\"1\" class=\"dataframe\">\n",
       "  <thead>\n",
       "    <tr style=\"text-align: right;\">\n",
       "      <th></th>\n",
       "      <th>code</th>\n",
       "      <th>name</th>\n",
       "    </tr>\n",
       "  </thead>\n",
       "  <tbody>\n",
       "    <tr>\n",
       "      <th>0</th>\n",
       "      <td>8</td>\n",
       "      <td>Human development</td>\n",
       "    </tr>\n",
       "    <tr>\n",
       "      <th>1</th>\n",
       "      <td>11</td>\n",
       "      <td></td>\n",
       "    </tr>\n",
       "    <tr>\n",
       "      <th>2</th>\n",
       "      <td>1</td>\n",
       "      <td>Economic management</td>\n",
       "    </tr>\n",
       "    <tr>\n",
       "      <th>3</th>\n",
       "      <td>6</td>\n",
       "      <td>Social protection and risk management</td>\n",
       "    </tr>\n",
       "    <tr>\n",
       "      <th>4</th>\n",
       "      <td>5</td>\n",
       "      <td>Trade and integration</td>\n",
       "    </tr>\n",
       "    <tr>\n",
       "      <th>...</th>\n",
       "      <td>...</td>\n",
       "      <td>...</td>\n",
       "    </tr>\n",
       "    <tr>\n",
       "      <th>1494</th>\n",
       "      <td>10</td>\n",
       "      <td>Rural development</td>\n",
       "    </tr>\n",
       "    <tr>\n",
       "      <th>1495</th>\n",
       "      <td>9</td>\n",
       "      <td>Urban development</td>\n",
       "    </tr>\n",
       "    <tr>\n",
       "      <th>1496</th>\n",
       "      <td>8</td>\n",
       "      <td>Human development</td>\n",
       "    </tr>\n",
       "    <tr>\n",
       "      <th>1497</th>\n",
       "      <td>5</td>\n",
       "      <td>Trade and integration</td>\n",
       "    </tr>\n",
       "    <tr>\n",
       "      <th>1498</th>\n",
       "      <td>4</td>\n",
       "      <td>Financial and private sector development</td>\n",
       "    </tr>\n",
       "  </tbody>\n",
       "</table>\n",
       "<p>1499 rows × 2 columns</p>\n",
       "</div>"
      ],
      "text/plain": [
       "     code                                      name\n",
       "0       8                         Human development\n",
       "1      11                                          \n",
       "2       1                       Economic management\n",
       "3       6     Social protection and risk management\n",
       "4       5                     Trade and integration\n",
       "...   ...                                       ...\n",
       "1494   10                         Rural development\n",
       "1495    9                         Urban development\n",
       "1496    8                         Human development\n",
       "1497    5                     Trade and integration\n",
       "1498    4  Financial and private sector development\n",
       "\n",
       "[1499 rows x 2 columns]"
      ]
     },
     "execution_count": 373,
     "metadata": {},
     "output_type": "execute_result"
    }
   ],
   "source": [
    "# creating a normilized json file for 'mjtheme_namecode' column which is a list of themes' codes and their names\n",
    "normalized_mjtheme=pd.json_normalize(world_bank_nested_json,record_path='mjtheme_namecode')\n",
    "\n",
    "#create a new column for counted codes of themes, sort by that column (descending) and return only top ten\n",
    "grouped_by_themes=normalized_mjtheme.groupby('code').size().reset_index(name='CountThemeCodes').sort_values('CountThemeCodes',ascending=False).head(10)\n",
    "grouped_by_themes"
   ]
  },
  {
   "cell_type": "markdown",
   "metadata": {
    "tags": []
   },
   "source": [
    "### 4. In 3. above you will notice that some entries have only the code and the name is missing. Create a dataframe with the missing names filled in."
   ]
  },
  {
   "cell_type": "code",
   "execution_count": 370,
   "metadata": {
    "tags": []
   },
   "outputs": [
    {
     "name": "stdout",
     "output_type": "stream",
     "text": [
      "     code                                          name\n",
      "0       8                             Human development\n",
      "1      11  Environment and natural resources management\n",
      "2       1                           Economic management\n",
      "3       6         Social protection and risk management\n",
      "4       5                         Trade and integration\n",
      "...   ...                                           ...\n",
      "1494   10                             Rural development\n",
      "1495    9                             Urban development\n",
      "1496    8                             Human development\n",
      "1497    5                         Trade and integration\n",
      "1498    4      Financial and private sector development\n",
      "\n",
      "[1499 rows x 2 columns]\n"
     ]
    }
   ],
   "source": [
    "normalized_mjtheme\n",
    "\n",
    "# checking if empty cells in rows have Nan values or have spaces\n",
    "empty_or_space_mask = normalized_mjtheme['name'].str.strip().eq('') | normalized_mjtheme['name'].isna()\n",
    "\n",
    "#filtering by the mask and dropping duplicates to get a table with unique codes and theme names\n",
    "filtered_mjtheme_no_duplicates = normalized_mjtheme[~empty_or_space_mask].drop_duplicates()\n",
    "\n",
    "# Merge and update values based on 'code' column (creating an additional temp column \"name_new\")\n",
    "updated_mjtheme = normalized_mjtheme.merge(\n",
    "    filtered_mjtheme_no_duplicates, on='code', how='left', suffixes=('', '_new')\n",
    ")\n",
    "\n",
    "# Update 'name' column with values from 'name_new'\n",
    "updated_mjtheme['name'] = updated_mjtheme['name_new']\n",
    "\n",
    "# Drop the temporary column 'name_new'\n",
    "updated_mjtheme = updated_mjtheme.drop(['name_new'], axis=1)\n",
    "\n",
    "# Print the updated DataFrame\n",
    "print(updated_mjtheme)\n"
   ]
  },
  {
   "cell_type": "markdown",
   "metadata": {
    "tags": []
   },
   "source": [
    "### Another approach where by mistake was using 'mjthemecode' column consisting of codes in string type with different.Longer and difficult way but good to compare results and learn something new\n",
    "### "
   ]
  },
  {
   "cell_type": "code",
   "execution_count": 281,
   "metadata": {
    "tags": []
   },
   "outputs": [
    {
     "data": {
      "text/plain": [
       "[('11', 250),\n",
       " ('10', 216),\n",
       " ('8', 210),\n",
       " ('2', 199),\n",
       " ('6', 168),\n",
       " ('4', 146),\n",
       " ('7', 130),\n",
       " ('5', 77),\n",
       " ('9', 50),\n",
       " ('1', 38)]"
      ]
     },
     "execution_count": 281,
     "metadata": {},
     "output_type": "execute_result"
    }
   ],
   "source": [
    "#selecting all rows and 'mjthemecode' column from 'normalized_json'\n",
    "x = normalized_json.loc[:,['mjthemecode']]\n",
    "\n",
    "#  creating a string with all values from  'mjthemecode'\n",
    "joined_string = ','.join(normalized_json['mjthemecode'])\n",
    "\n",
    "# Split the joined string into individual values (creating a list)\n",
    "individual_values = joined_string.split(',')\n",
    "\n",
    "# counting individual values using Counter function and printing the top ten\n",
    "from collections import Counter\n",
    "themes_count=Counter(individual_values)\n",
    "themes_count.most_common(10)\n"
   ]
  },
  {
   "cell_type": "markdown",
   "metadata": {
    "tags": []
   },
   "source": [
    "### Wrong approaches below (don't use)"
   ]
  },
  {
   "cell_type": "code",
   "execution_count": 257,
   "metadata": {
    "tags": []
   },
   "outputs": [
    {
     "name": "stdout",
     "output_type": "stream",
     "text": [
      "                                 countryname  Projects_Count\n",
      "0    Federal Democratic Republic of Ethiopia              55\n",
      "213         Democratic Republic of the Congo              55\n",
      "185                        Republic of Haiti              55\n",
      "186                        Republic of Haiti              55\n",
      "199            Socialist Republic of Vietnam              55\n",
      "204                       Republic of Zambia              55\n",
      "207                       Republic of Uganda              55\n",
      "211                          Kyrgyz Republic              55\n",
      "215                        Republic of Niger              55\n",
      "253                  Republic of South Sudan              55\n"
     ]
    }
   ],
   "source": [
    "#adding a \"Projects_Count\" column where aggregate number\n",
    "normalized_json['Projects_Count']=normalized_json.count(axis='columns')\n",
    "sorted_projects = normalized_json.sort_values(by='Projects_Count',ascending=False).head(10)\n",
    "countries = sorted_projects.loc[sorted_projects.index,['countryname','Projects_Count']]\n",
    "#print(normalized_json)\n",
    "print(countries)"
   ]
  }
 ],
 "metadata": {
  "anaconda-cloud": {},
  "kernelspec": {
   "display_name": "Python 3 (ipykernel)",
   "language": "python",
   "name": "python3"
  },
  "language_info": {
   "codemirror_mode": {
    "name": "ipython",
    "version": 3
   },
   "file_extension": ".py",
   "mimetype": "text/x-python",
   "name": "python",
   "nbconvert_exporter": "python",
   "pygments_lexer": "ipython3",
   "version": "3.11.3"
  }
 },
 "nbformat": 4,
 "nbformat_minor": 4
}
