{
 "cells": [
  {
   "cell_type": "markdown",
   "metadata": {},
   "source": [
    "# XML exercise"
   ]
  },
  {
   "cell_type": "markdown",
   "metadata": {},
   "source": [
    "Using data from [**mondial database**](https://drive.google.com/file/d/14lFT4nWHgwN36ij4XZh6OUuup-K9qLgR/view?usp=sharing) find the answers to following questions:\n",
    "\n",
    "1. 10 countries with the lowest infant mortality rates\n",
    "2. 10 cities with the largest population\n",
    "3. name and country of a) longest river, b) largest lake and c) airport at highest elevation"
   ]
  },
  {
   "cell_type": "code",
   "execution_count": 62,
   "metadata": {
    "tags": []
   },
   "outputs": [],
   "source": [
    "import pandas as pd\n",
    "import xml.etree.ElementTree as ET\n",
    "tree=ET.parse('mondial.xml')\n",
    "root=tree.getroot()"
   ]
  },
  {
   "cell_type": "markdown",
   "metadata": {
    "tags": []
   },
   "source": [
    "### 1. 10 countries with the lowest infant mortality rates"
   ]
  },
  {
   "cell_type": "code",
   "execution_count": 61,
   "metadata": {
    "tags": []
   },
   "outputs": [
    {
     "name": "stdout",
     "output_type": "stream",
     "text": [
      "            Country  Mortality\n",
      "38           Monaco       1.81\n",
      "98            Japan       2.13\n",
      "117         Bermuda       2.48\n",
      "36           Norway       2.48\n",
      "106       Singapore       2.53\n",
      "37           Sweden       2.60\n",
      "10   Czech Republic       2.63\n",
      "8             Spain       2.70\n",
      "78        Hong Kong       2.73\n",
      "79            Macao       3.13\n"
     ]
    }
   ],
   "source": [
    "infant_mortality = []  # Initialize the list where will keep dictionaries with countries and mortality rates\n",
    "\n",
    "# Iterate through each XML element\n",
    "for element in root:\n",
    "    country = element.find('name').text\n",
    "    \n",
    "    # there are some countries with missing mortality rates , \"try\" block is used to set value to None \n",
    "    try:\n",
    "        mortality = element.find('infant_mortality').text\n",
    "    except AttributeError:\n",
    "        mortality = None\n",
    "    \n",
    "    infant_mortality.append({'Country': country, 'Mortality': mortality})\n",
    "\n",
    "# Create a DataFrame from the infant_mortality list\n",
    "df = pd.DataFrame(infant_mortality)\n",
    "\n",
    "# Drop rows with missing values in the 'Mortality' column\n",
    "df = df.dropna(subset=['Mortality'])\n",
    "\n",
    "# Convert the 'Mortality' column data type to float\n",
    "df['Mortality'] = df['Mortality'].astype(float)\n",
    "\n",
    "# Sort the DataFrame by 'Mortality' column and display the top 10 rows\n",
    "top_10_lowest_mortality = df.sort_values(by=\"Mortality\").head(10)\n",
    "\n",
    "print(top_10_lowest_mortality)"
   ]
  },
  {
   "cell_type": "markdown",
   "metadata": {},
   "source": [
    "### 2. 10 cities with the largest population"
   ]
  },
  {
   "cell_type": "code",
   "execution_count": 157,
   "metadata": {
    "tags": []
   },
   "outputs": [
    {
     "name": "stdout",
     "output_type": "stream",
     "text": [
      "                city  year  population\n",
      "398            Seoul  2015     9805506\n",
      "373       Al Qahirah  2006     8471859\n",
      "208          Bangkok  2010     8305218\n",
      "282        Hong Kong  2009     7055071\n",
      "545        Singapore  2010     5076700\n",
      "370  Al Iskandariyah  2006     4123869\n",
      "557       New Taipei  2012     3939305\n",
      "403            Busan  2015     3440484\n",
      "229        Pyongyang  2008     3255288\n",
      "955          Nairobi  2009     3133518\n"
     ]
    }
   ],
   "source": [
    "population_by_cities=[]  # Initialize the list where will keep population by cities and year\n",
    "\n",
    "for city_element in root.iterfind('country/city'):\n",
    "    for ind in range(len(city_element)):\n",
    "        if city_element[ind].tag=='population':\n",
    "            population_by_cities.append([city_element[0].text,city_element[ind].attrib['year'],city_element[ind].text])\n",
    "            \n",
    "# Create a DataFrame from the 'population_by_cities' list\n",
    "df = pd.DataFrame(population_by_cities, columns=[\"city\", \"year\", \"population\"])\n",
    "\n",
    "# keep only the last year of population counting (removing old ones)\n",
    "df_latest_year=df.sort_values(by='year',ascending=False).drop_duplicates(subset='city')\n",
    "\n",
    "# converting 'population' data type from string to integer\n",
    "df_latest_year['population']=pd.to_numeric(df_latest_year['population'])\n",
    "\n",
    "# sort descending by populations and leave the first 10 rows\n",
    "df_10_largest_cities=df_latest_year.sort_values(by='population',ascending=False).head(10)\n",
    "\n",
    "print(df_10_largest_cities)"
   ]
  },
  {
   "cell_type": "markdown",
   "metadata": {},
   "source": [
    "### 3a. Name and country of a longest river"
   ]
  },
  {
   "cell_type": "code",
   "execution_count": 214,
   "metadata": {
    "tags": []
   },
   "outputs": [
    {
     "data": {
      "text/html": [
       "<div>\n",
       "<style scoped>\n",
       "    .dataframe tbody tr th:only-of-type {\n",
       "        vertical-align: middle;\n",
       "    }\n",
       "\n",
       "    .dataframe tbody tr th {\n",
       "        vertical-align: top;\n",
       "    }\n",
       "\n",
       "    .dataframe thead th {\n",
       "        text-align: right;\n",
       "    }\n",
       "</style>\n",
       "<table border=\"1\" class=\"dataframe\">\n",
       "  <thead>\n",
       "    <tr style=\"text-align: right;\">\n",
       "      <th></th>\n",
       "      <th>River</th>\n",
       "      <th>Lenght</th>\n",
       "      <th>Country(ies) Code</th>\n",
       "    </tr>\n",
       "  </thead>\n",
       "  <tbody>\n",
       "    <tr>\n",
       "      <th>214</th>\n",
       "      <td>Yangtze</td>\n",
       "      <td>6380.0</td>\n",
       "      <td>CN</td>\n",
       "    </tr>\n",
       "  </tbody>\n",
       "</table>\n",
       "</div>"
      ],
      "text/plain": [
       "       River  Lenght Country(ies) Code\n",
       "214  Yangtze  6380.0                CN"
      ]
     },
     "execution_count": 214,
     "metadata": {},
     "output_type": "execute_result"
    }
   ],
   "source": [
    "Rivers_list=[] # Initialize the list where will keep rivers names, lenghts and country codes\n",
    "\n",
    "for element in root.iterfind('river'):\n",
    "        river_name=element.find('name').text\n",
    "        river_country_estuary=element.find('estuary').attrib['country']\n",
    "        \n",
    "        # was getting error for river length, solve with try block\n",
    "        try :\n",
    "            river_lenght=element.find('length').text\n",
    "        except:\n",
    "            river_lenght=None\n",
    "            \n",
    "        Rivers_list.append([river_name,river_lenght,river_country_estuary])\n",
    "\n",
    "# Create a DataFrame from the 'Rivers_list'\n",
    "df=pd.DataFrame(Rivers_list,columns=[\"River\", \"Lenght\", \"Country(ies) Code\"])\n",
    "\n",
    "# Convert 'Lenght' from text to numeric\n",
    "df['Lenght']=pd.to_numeric(df['Lenght'])\n",
    "\n",
    "# Sort descending by the lenght and keep the first one\n",
    "df_sorted=df.sort_values(by=\"Lenght\",ascending=False).head(1)\n",
    "df_sorted\n",
    "\n",
    "#lake,area, located country=\"SF\""
   ]
  },
  {
   "cell_type": "markdown",
   "metadata": {},
   "source": [
    "### 3b. Name and country of a largest lake"
   ]
  },
  {
   "cell_type": "code",
   "execution_count": 222,
   "metadata": {
    "tags": []
   },
   "outputs": [
    {
     "data": {
      "text/html": [
       "<div>\n",
       "<style scoped>\n",
       "    .dataframe tbody tr th:only-of-type {\n",
       "        vertical-align: middle;\n",
       "    }\n",
       "\n",
       "    .dataframe tbody tr th {\n",
       "        vertical-align: top;\n",
       "    }\n",
       "\n",
       "    .dataframe thead th {\n",
       "        text-align: right;\n",
       "    }\n",
       "</style>\n",
       "<table border=\"1\" class=\"dataframe\">\n",
       "  <thead>\n",
       "    <tr style=\"text-align: right;\">\n",
       "      <th></th>\n",
       "      <th>Lake</th>\n",
       "      <th>Area</th>\n",
       "      <th>Country(ies) Code</th>\n",
       "    </tr>\n",
       "  </thead>\n",
       "  <tbody>\n",
       "    <tr>\n",
       "      <th>59</th>\n",
       "      <td>Caspian Sea</td>\n",
       "      <td>386400.0</td>\n",
       "      <td>R</td>\n",
       "    </tr>\n",
       "  </tbody>\n",
       "</table>\n",
       "</div>"
      ],
      "text/plain": [
       "           Lake      Area Country(ies) Code\n",
       "59  Caspian Sea  386400.0                 R"
      ]
     },
     "execution_count": 222,
     "metadata": {},
     "output_type": "execute_result"
    }
   ],
   "source": [
    "Lakes_list=[] # Initialize the list where will keep lakes names, area and country codes\n",
    "\n",
    "for element in root.iterfind('lake'):\n",
    "        lake_name=element.find('name').text\n",
    "        \n",
    "        # was getting error for lake country , solve with try block\n",
    "        try:\n",
    "            lake_country=element.find('located').attrib['country']\n",
    "        except:\n",
    "            lake_country=None\n",
    "        lake_area=element.find('area').text\n",
    "            \n",
    "        Lakes_list.append([lake_name,lake_area,lake_country])\n",
    "\n",
    "# Create a DataFrame from the 'Lakes_list'\n",
    "df=pd.DataFrame(Lakes_list,columns=[\"Lake\", \"Area\", \"Country(ies) Code\"])\n",
    "\n",
    "# Convert 'Lenght' from text to numeric\n",
    "df['Area']=pd.to_numeric(df['Area'])\n",
    "\n",
    "# Sort descending by the area and keep the first one\n",
    "df_sorted=df.sort_values(by=\"Area\",ascending=False).head(1)\n",
    "df_sorted"
   ]
  },
  {
   "cell_type": "markdown",
   "metadata": {},
   "source": [
    "### 3c. Name and country of a largest airport at highest elevation"
   ]
  },
  {
   "cell_type": "code",
   "execution_count": 240,
   "metadata": {
    "tags": []
   },
   "outputs": [
    {
     "data": {
      "text/html": [
       "<div>\n",
       "<style scoped>\n",
       "    .dataframe tbody tr th:only-of-type {\n",
       "        vertical-align: middle;\n",
       "    }\n",
       "\n",
       "    .dataframe tbody tr th {\n",
       "        vertical-align: top;\n",
       "    }\n",
       "\n",
       "    .dataframe thead th {\n",
       "        text-align: right;\n",
       "    }\n",
       "</style>\n",
       "<table border=\"1\" class=\"dataframe\">\n",
       "  <thead>\n",
       "    <tr style=\"text-align: right;\">\n",
       "      <th></th>\n",
       "      <th>Airport</th>\n",
       "      <th>Elevation</th>\n",
       "      <th>Country(ies) Code</th>\n",
       "    </tr>\n",
       "  </thead>\n",
       "  <tbody>\n",
       "    <tr>\n",
       "      <th>81</th>\n",
       "      <td>El Alto Intl</td>\n",
       "      <td>4063.0</td>\n",
       "      <td>BOL</td>\n",
       "    </tr>\n",
       "  </tbody>\n",
       "</table>\n",
       "</div>"
      ],
      "text/plain": [
       "         Airport  Elevation Country(ies) Code\n",
       "81  El Alto Intl     4063.0               BOL"
      ]
     },
     "execution_count": 240,
     "metadata": {},
     "output_type": "execute_result"
    }
   ],
   "source": [
    "Airports_list=[] # Initialize the list where will keep airport names, elevation and country codes\n",
    "\n",
    "for element in root.iterfind('airport'):\n",
    "        airport_name=element.find('name').text\n",
    "        airport_country=element.attrib['country']\n",
    "\n",
    "        try:\n",
    "            airport_elevation=element.find('elevation').text\n",
    "        except:\n",
    "            airport_elevation=None\n",
    "            \n",
    "        Airports_list.append([airport_name,airport_elevation,airport_country])\n",
    "\n",
    "# Create a DataFrame from the 'Airports_list'\n",
    "df=pd.DataFrame(Airports_list,columns=[\"Airport\", \"Elevation\", \"Country(ies) Code\"])\n",
    "\n",
    "# Convert 'Elevation' from text to numeric\n",
    "df['Elevation']=pd.to_numeric(df['Elevation'])\n",
    "\n",
    "# Sort descending by the Elevation and keep the first one\n",
    "df_sorted=df.sort_values(by=\"Elevation\",ascending=False).head(1)\n",
    "df_sorted"
   ]
  },
  {
   "cell_type": "code",
   "execution_count": null,
   "metadata": {},
   "outputs": [],
   "source": []
  }
 ],
 "metadata": {
  "anaconda-cloud": {},
  "kernelspec": {
   "display_name": "Python 3 (ipykernel)",
   "language": "python",
   "name": "python3"
  },
  "language_info": {
   "codemirror_mode": {
    "name": "ipython",
    "version": 3
   },
   "file_extension": ".py",
   "mimetype": "text/x-python",
   "name": "python",
   "nbconvert_exporter": "python",
   "pygments_lexer": "ipython3",
   "version": "3.11.3"
  }
 },
 "nbformat": 4,
 "nbformat_minor": 4
}
